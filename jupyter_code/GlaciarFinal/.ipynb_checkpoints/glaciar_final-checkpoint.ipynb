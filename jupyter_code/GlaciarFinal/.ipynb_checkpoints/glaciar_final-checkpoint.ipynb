{
  "cells": [
    {
      "metadata": {
        "trusted": true
      },
      "cell_type": "code",
      "source": "# library\nfrom mpl_toolkits.mplot3d import Axes3D\nimport matplotlib.pyplot as plt\nimport pandas as pd\nimport seaborn as sns\n\n# Get the data (csv file is hosted on the web)\nurl = 'https://python-graph-gallery.com/wp-content/uploads/volcano.csv'\ndata = pd.read_csv(url)\n\n# Transform it to a long format \ndf=data.unstack().reset_index()\ndf.columns=[\"X\",\"Y\",\"Z\"]\n\n# And transform the old column name in something numeric\ndf['X']=pd.Categorical(df['X'])\ndf['X']=df['X'].cat.codes\n\ndecline_data = pd.read_csv('ice_data.csv')\n\n# We are going to do 20 plots, for 20 different angles\nfor i in range(len(decline_data['decline_offset'])):\n    \n    # Make the plot\n    in_frame = df['Z']+decline_data['decline_offset'][i] >= 94\n    df_copy = df[in_frame]\n\n    fig = plt.figure()\n    ax = fig.gca(projection='3d')\n    ax.set_zlim3d(100,200)\n    \n    # Hide grid lines\n    ax.grid(False)\n    # Hide axes ticks\n    ax.set_xticks([])\n    ax.set_yticks([])\n    ax.set_zticks([])\n    \n    \n    ax.plot_trisurf(df_copy['Y'], df_copy['X'], df_copy['Z']+decline_data['decline_offset'][i], cmap=plt.cm.get_cmap('Blues_r'), linewidth=0.2)\n    ax.text2D(.25, 1, 'Year: ' + str(decline_data['year'][i])[:4] + '\\nDeclined ' + str(decline_data['decline'][i]*-1) + ' gigatonnes since 2002', transform=ax.transAxes)\n\n    filename='Volcano/Volcano_step'+str(i)+'.png'\n    plt.savefig(filename, dpi=96)\n    plt.gca()\n    \n    print(i)\n    ",
      "execution_count": null,
      "outputs": [
        {
          "output_type": "stream",
          "text": "/home/nbuser/anaconda3_501/lib/python3.6/site-packages/matplotlib/font_manager.py:229: UserWarning: Matplotlib is building the font cache using fc-list. This may take a moment.\n  'Matplotlib is building the font cache using fc-list. '\n",
          "name": "stderr"
        }
      ]
    },
    {
      "metadata": {
        "trusted": true
      },
      "cell_type": "code",
      "source": "",
      "execution_count": null,
      "outputs": []
    }
  ],
  "metadata": {
    "kernelspec": {
      "name": "python36",
      "display_name": "Python 3.6",
      "language": "python"
    },
    "language_info": {
      "mimetype": "text/x-python",
      "nbconvert_exporter": "python",
      "name": "python",
      "pygments_lexer": "ipython3",
      "version": "3.6.6",
      "file_extension": ".py",
      "codemirror_mode": {
        "version": 3,
        "name": "ipython"
      }
    }
  },
  "nbformat": 4,
  "nbformat_minor": 2
}