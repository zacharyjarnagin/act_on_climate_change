{
  "cells": [
    {
      "metadata": {
        "trusted": true
      },
      "cell_type": "code",
      "source": "# library\nfrom mpl_toolkits.mplot3d import Axes3D\nimport matplotlib.pyplot as plt\nimport pandas as pd\nimport seaborn as sns\n\n# Get the data (csv file is hosted on the web)\nurl = 'https://python-graph-gallery.com/wp-content/uploads/volcano.csv'\ndata = pd.read_csv(url)\n\n# Transform it to a long format \ndf=data.unstack().reset_index()\ndf.columns=[\"X\",\"Y\",\"Z\"]\n\n# And transform the old column name in something numeric\ndf['X']=pd.Categorical(df['X'])\ndf['X']=df['X'].cat.codes\n\ndecline_data = pd.read_csv('ice_data.csv')\n\n# We are going to do 20 plots, for 20 different angles\nfor i in range(len(decline_data['decline_offset'])):\n    \n    # Make the plot\n    in_frame = df['Z']+decline_data['decline_offset'][i] >= 94\n    df_copy = df[in_frame]\n\n    fig = plt.figure()\n    ax = fig.gca(projection='3d')\n    ax.set_zlim3d(100,200)\n    \n    # Hide grid lines\n    ax.grid(False)\n    # Hide axes ticks\n    ax.set_xticks([])\n    ax.set_yticks([])\n    ax.set_zticks([])\n    \n    \n    ax.plot_trisurf(df_copy['Y'], df_copy['X'], df_copy['Z']+decline_data['decline_offset'][i], cmap=plt.cm.get_cmap('Blues_r'), linewidth=0.2)\n    ax.text2D(.25, 1, 'Year: ' + str(decline_data['year'][i])[:4] + '\\nDeclined ' + str(decline_data['decline'][i]*-1) + ' gigatonnes since 2002', transform=ax.transAxes)\n\n    filename='Volcano/Volcano_step'+str(i)+'.png'\n    plt.savefig(filename, dpi=96)\n    plt.gca()\n    \n    print(i)\n    ",
      "execution_count": 1,
      "outputs": [
        {
          "output_type": "stream",
          "text": "/home/nbuser/anaconda3_501/lib/python3.6/site-packages/matplotlib/font_manager.py:229: UserWarning: Matplotlib is building the font cache using fc-list. This may take a moment.\n  'Matplotlib is building the font cache using fc-list. '\n",
          "name": "stderr"
        },
        {
          "output_type": "stream",
          "text": "0\n1\n2\n3\n4\n5\n6\n7\n8\n9\n10\n11\n12\n13\n14\n15\n16\n17\n18\n19\n",
          "name": "stdout"
        },
        {
          "output_type": "stream",
          "text": "/home/nbuser/anaconda3_501/lib/python3.6/site-packages/matplotlib/pyplot.py:513: RuntimeWarning: More than 20 figures have been opened. Figures created through the pyplot interface (`matplotlib.pyplot.figure`) are retained until explicitly closed and may consume too much memory. (To control this warning, see the rcParam `figure.max_open_warning`).\n  max_open_warning, RuntimeWarning)\n",
          "name": "stderr"
        },
        {
          "output_type": "stream",
          "text": "20\n21\n22\n23\n24\n25\n26\n27\n28\n29\n30\n31\n32\n33\n34\n35\n36\n37\n38\n39\n40\n41\n42\n43\n44\n45\n46\n47\n48\n49\n50\n51\n52\n53\n54\n55\n56\n57\n58\n59\n60\n61\n62\n63\n64\n65\n66\n67\n68\n69\n70\n71\n72\n73\n74\n75\n76\n77\n78\n79\n80\n81\n82\n83\n84\n85\n86\n87\n88\n89\n90\n91\n92\n93\n94\n95\n96\n97\n98\n99\n100\n101\n102\n103\n104\n105\n106\n107\n108\n109\n110\n111\n112\n113\n114\n115\n116\n117\n118\n119\n120\n121\n122\n123\n124\n125\n126\n127\n128\n129\n130\n131\n132\n133\n134\n135\n136\n137\n138\n139\n140\n141\n142\n143\n144\n145\n146\n147\n148\n149\n150\n151\n152\n153\n154\n155\n156\n157\n158\n159\n160\n161\n162\n",
          "name": "stdout"
        }
      ]
    },
    {
      "metadata": {
        "trusted": true
      },
      "cell_type": "code",
      "source": "",
      "execution_count": null,
      "outputs": []
    }
  ],
  "metadata": {
    "kernelspec": {
      "name": "python36",
      "display_name": "Python 3.6",
      "language": "python"
    },
    "language_info": {
      "mimetype": "text/x-python",
      "nbconvert_exporter": "python",
      "name": "python",
      "pygments_lexer": "ipython3",
      "version": "3.6.6",
      "file_extension": ".py",
      "codemirror_mode": {
        "version": 3,
        "name": "ipython"
      }
    }
  },
  "nbformat": 4,
  "nbformat_minor": 2
}